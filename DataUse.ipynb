{
 "cells": [
  {
   "cell_type": "code",
   "execution_count": 1,
   "metadata": {},
   "outputs": [],
   "source": [
    "import pymysql"
   ]
  },
  {
   "cell_type": "code",
   "execution_count": 2,
   "metadata": {},
   "outputs": [],
   "source": [
    "def get_connection():\n",
    "   connection = pymysql.connect(host='deadhead-db.cplvgriavgfs.us-east-1.rds.amazonaws.com',\n",
    "                             user='nick',\n",
    "                             password='',\n",
    "                             database='deadhead',\n",
    "                             charset='utf8mb4',\n",
    "                             cursorclass=pymysql.cursors.DictCursor)\n",
    "   return connection"
   ]
  },
  {
   "cell_type": "code",
   "execution_count": 3,
   "metadata": {},
   "outputs": [],
   "source": [
    "def get_concert():\n",
    "  conn = get_connection()\n",
    "  with conn:\n",
    "     with conn.cursor() as cursor:\n",
    "        query = \"SELECT * FROM concert ORDER BY RAND() LIMIT 1\"\n",
    "        cursor.execute(query)\n",
    "        concert = cursor.fetchone()\n",
    "        print(concert)\n",
    "        return concert"
   ]
  },
  {
   "cell_type": "code",
   "execution_count": 4,
   "metadata": {},
   "outputs": [
    {
     "name": "stdout",
     "output_type": "stream",
     "text": [
      "{'concert_id': 194, 'title': 'Grateful Dead Live at Paramount Theatre on 1976-06-04', 'year': 1976, 'coverage': 'Portland, OR', 'identifier': 'gd1976-06-04.153710.sbd.martin.smith.clugston.flac2496', 'date': '1976-06-04T00:00:00Z', 'song_count': None}\n"
     ]
    }
   ],
   "source": [
    "concert = get_concert()"
   ]
  },
  {
   "cell_type": "code",
   "execution_count": 5,
   "metadata": {},
   "outputs": [],
   "source": [
    "def get_song(concert):\n",
    "    concert_id = concert['concert_id']\n",
    "    conn = get_connection()\n",
    "    with conn:\n",
    "      with conn.cursor() as cursor:\n",
    "          query = \"SELECT * FROM song WHERE `concert_id` = {} ORDER BY RAND() LIMIT 1\".format(concert_id)\n",
    "          cursor.execute(query)\n",
    "          song = cursor.fetchone()\n",
    "          if song is None:\n",
    "             print(\"No song in this concert\")\n",
    "          print(song)\n",
    "          return song"
   ]
  },
  {
   "cell_type": "code",
   "execution_count": 14,
   "metadata": {},
   "outputs": [
    {
     "name": "stdout",
     "output_type": "stream",
     "text": [
      "{'song_id': 2614, 'title': \"Playin' In The Band\", 'format': 'Flac', 'archive_id': \"/gd76-06-04 s2t01 Playin'.flac\", 'concert_id': 194, 'corrupted': 'No'}\n"
     ]
    }
   ],
   "source": [
    "song = get_song(concert)"
   ]
  }
 ],
 "metadata": {
  "kernelspec": {
   "display_name": "env",
   "language": "python",
   "name": "python3"
  },
  "language_info": {
   "codemirror_mode": {
    "name": "ipython",
    "version": 3
   },
   "file_extension": ".py",
   "mimetype": "text/x-python",
   "name": "python",
   "nbconvert_exporter": "python",
   "pygments_lexer": "ipython3",
   "version": "3.8.3"
  },
  "orig_nbformat": 4
 },
 "nbformat": 4,
 "nbformat_minor": 2
}
