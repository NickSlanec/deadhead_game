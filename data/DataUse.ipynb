{
 "cells": [
  {
   "cell_type": "code",
   "execution_count": 5,
   "metadata": {},
   "outputs": [],
   "source": [
    "import pymysql\n",
    "import pandas as pd\n",
    "import requests\n",
    "import os"
   ]
  },
  {
   "cell_type": "code",
   "execution_count": 6,
   "metadata": {},
   "outputs": [],
   "source": [
    "def get_connection():\n",
    "   connection = pymysql.connect(host='deadhead-db.cplvgriavgfs.us-east-1.rds.amazonaws.com',\n",
    "                             user= db_username,\n",
    "                             password= db_password,\n",
    "                             database='deadhead',\n",
    "                             charset='utf8mb4',\n",
    "                             cursorclass=pymysql.cursors.DictCursor)\n",
    "   return connection"
   ]
  },
  {
   "cell_type": "code",
   "execution_count": 7,
   "metadata": {},
   "outputs": [],
   "source": [
    "def get_concert():\n",
    "  conn = get_connection()\n",
    "  with conn:\n",
    "     with conn.cursor() as cursor:\n",
    "        query = \"SELECT * FROM concert ORDER BY RAND() LIMIT 1\"\n",
    "        cursor.execute(query)\n",
    "        concert = cursor.fetchone()\n",
    "        print(concert)\n",
    "        return concert"
   ]
  },
  {
   "cell_type": "code",
   "execution_count": 8,
   "metadata": {},
   "outputs": [],
   "source": [
    "def get_song(concert):\n",
    "    concert_id = concert['concert_id']\n",
    "    conn = get_connection()\n",
    "    with conn:\n",
    "      with conn.cursor() as cursor:\n",
    "          query = \"SELECT * FROM song WHERE `concert_id` = {} ORDER BY RAND() LIMIT 1\".format(concert_id)\n",
    "          cursor.execute(query)\n",
    "          song = cursor.fetchone()\n",
    "          if song is None:\n",
    "             print(\"No song in this concert\")\n",
    "          print(song)\n",
    "          return song"
   ]
  },
  {
   "cell_type": "code",
   "execution_count": 29,
   "metadata": {},
   "outputs": [
    {
     "name": "stdout",
     "output_type": "stream",
     "text": [
      "{'concert_id': 372, 'title': 'Grateful Dead Live at Uptown Theater on 1978-01-31', 'year': 1978, 'coverage': 'Chicago, IL', 'identifier': 'gd1978-01-31.sbd.miller.32256.sbeok.flac16', 'date': '1978-01-31T00:00:00Z'}\n"
     ]
    }
   ],
   "source": [
    "concert = get_concert()"
   ]
  },
  {
   "cell_type": "code",
   "execution_count": 30,
   "metadata": {},
   "outputs": [
    {
     "name": "stdout",
     "output_type": "stream",
     "text": [
      "{'title': 'Samson And Delilah', 'format': 'VBR MP3', 'archive_id': '/gd78-01-31d2t03.mp3', 'url': 'https://ia804601.us.archive.org/0/items/gd1978-01-31.sbd.miller.32256.sbeok.flac16/gd78-01-31d2t03.mp3', 'concert_id': 372, 'corrupted': 'No'}\n"
     ]
    }
   ],
   "source": [
    "song = get_song(concert)"
   ]
  },
  {
   "attachments": {},
   "cell_type": "markdown",
   "metadata": {},
   "source": [
    "## Tests"
   ]
  },
  {
   "attachments": {},
   "cell_type": "markdown",
   "metadata": {},
   "source": [
    "### Check if link is bad"
   ]
  },
  {
   "cell_type": "code",
   "execution_count": 11,
   "metadata": {},
   "outputs": [],
   "source": [
    "def get_all_songs():\n",
    "  conn = get_connection()\n",
    "  with conn:\n",
    "      with conn.cursor() as cursor:\n",
    "        query = \"SELECT * FROM song\"\n",
    "        cursor.execute(query)\n",
    "        songs = cursor.fetchall()\n",
    "        return songs"
   ]
  },
  {
   "cell_type": "code",
   "execution_count": 39,
   "metadata": {},
   "outputs": [],
   "source": [
    "songs = get_all_songs()\n",
    "subset = songs[:200]"
   ]
  },
  {
   "cell_type": "code",
   "execution_count": 38,
   "metadata": {},
   "outputs": [],
   "source": [
    "def find_bad_urls(songs):\n",
    "  working = 0\n",
    "  broken = 0\n",
    "  for song in songs:\n",
    "    # print(song['url'])\n",
    "    r = requests.head(song['url'], allow_redirects=True) # the limitation here is that if the link is valid and the song is a normal length, it takes a long time for the request to complete\n",
    "    if r.status_code == 403:\n",
    "      broken = broken + 1\n",
    "      song['corrupted'] = 'BadUrl'\n",
    "    elif r.status_code == 200: \n",
    "      working = working + 1\n",
    "    # print(r.status_code)\n",
    "    print('{} working. {} broken'.format(working, broken), end='\\r')\n",
    "  return songs\n"
   ]
  },
  {
   "cell_type": "code",
   "execution_count": 41,
   "metadata": {},
   "outputs": [
    {
     "name": "stdout",
     "output_type": "stream",
     "text": [
      "12609 working. 3527 broken\r"
     ]
    }
   ],
   "source": [
    "stuff = find_bad_urls(songs)"
   ]
  },
  {
   "cell_type": "code",
   "execution_count": 43,
   "metadata": {},
   "outputs": [],
   "source": [
    "stuff_df = pd.DataFrame(stuff)"
   ]
  },
  {
   "cell_type": "code",
   "execution_count": 45,
   "metadata": {},
   "outputs": [],
   "source": [
    "from sqlalchemy import create_engine\n",
    "engine = create_engine(\"mysql+pymysql://{}:{}@deadhead-db.cplvgriavgfs.us-east-1.rds.amazonaws.com:3306/deadhead\".format(db_username, db_password))"
   ]
  },
  {
   "cell_type": "code",
   "execution_count": 46,
   "metadata": {},
   "outputs": [
    {
     "data": {
      "text/plain": [
       "16136"
      ]
     },
     "execution_count": 46,
     "metadata": {},
     "output_type": "execute_result"
    }
   ],
   "source": [
    "stuff_df.to_sql('song',engine, if_exists='replace',index_label='song_id')"
   ]
  },
  {
   "cell_type": "code",
   "execution_count": 53,
   "metadata": {},
   "outputs": [
    {
     "name": "stdout",
     "output_type": "stream",
     "text": [
      "{'id': 1610, 'title': '11. Fire On The Mountain', 'format': 'VBR MP3', 'archive_id': '/11. Fire On The Mountain.mp3', 'url': 'https://ia804601.us.archive.org/0/items/gd1988-12-09.151088.aud.lohr.vernon.flac1648/11. Fire On The Mountain.mp3', 'concert_id': 61, 'corrupted': 'No'}\n",
      "{'concert_id': 61, 'title': 'Grateful Dead Live at Long Beach Arena on 1988-12-09', 'year': 1988, 'coverage': 'Long Beach, CA', 'identifier': 'gd1988-12-09.151088.aud.lohr.vernon.flac1648', 'date': '1988-12-09T00:00:00Z'}\n",
      "{'id': 1610, 'title': 'Grateful Dead Live at Long Beach Arena on 1988-12-09', 'format': 'VBR MP3', 'archive_id': '/11. Fire On The Mountain.mp3', 'url': 'https://ia804601.us.archive.org/0/items/gd1988-12-09.151088.aud.lohr.vernon.flac1648/11. Fire On The Mountain.mp3', 'concert_id': 61, 'corrupted': 'No', 'year': 1988, 'coverage': 'Long Beach, CA', 'identifier': 'gd1988-12-09.151088.aud.lohr.vernon.flac1648', 'date': '1988-12-09T00:00:00Z'}\n"
     ]
    }
   ],
   "source": [
    "conn = get_connection()\n",
    "with conn:\n",
    "  with conn.cursor() as cursor:\n",
    "      query = \"SELECT * FROM song WHERE `corrupted` = 'NO' ORDER BY RAND() LIMIT 1\"\n",
    "      cursor.execute(query)\n",
    "      song = cursor.fetchone()\n",
    "      print(song)\n",
    "      \n",
    "      query = \"SELECT * FROM concert WHERE `concert_id` = {} \".format(song['concert_id'])\n",
    "      cursor.execute(query)\n",
    "      concert = cursor.fetchone()\n",
    "      print(concert)\n",
    "      print({**song, **concert})"
   ]
  },
  {
   "cell_type": "code",
   "execution_count": null,
   "metadata": {},
   "outputs": [],
   "source": []
  }
 ],
 "metadata": {
  "kernelspec": {
   "display_name": "env",
   "language": "python",
   "name": "python3"
  },
  "language_info": {
   "codemirror_mode": {
    "name": "ipython",
    "version": 3
   },
   "file_extension": ".py",
   "mimetype": "text/x-python",
   "name": "python",
   "nbconvert_exporter": "python",
   "pygments_lexer": "ipython3",
   "version": "3.8.3"
  },
  "orig_nbformat": 4
 },
 "nbformat": 4,
 "nbformat_minor": 2
}
